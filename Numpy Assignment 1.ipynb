{
 "cells": [
  {
   "cell_type": "code",
   "execution_count": 3,
   "id": "3f05e01b-3743-4953-b36a-622b79e2273f",
   "metadata": {},
   "outputs": [
    {
     "name": "stdout",
     "output_type": "stream",
     "text": [
      "Requirement already satisfied: numpy in c:\\users\\edge\\anaconda3\\lib\\site-packages (1.26.4)\n"
     ]
    }
   ],
   "source": [
    "!pip install numpy"
   ]
  },
  {
   "cell_type": "code",
   "execution_count": 4,
   "id": "7d900a88-98d2-4823-8bc5-1a0667cf30de",
   "metadata": {},
   "outputs": [],
   "source": [
    "import numpy as np "
   ]
  },
  {
   "cell_type": "code",
   "execution_count": 49,
   "id": "157062e4-a070-460e-ad3c-fc31b6a4b5bd",
   "metadata": {},
   "outputs": [
    {
     "name": "stdout",
     "output_type": "stream",
     "text": [
      "[[4 4 4]\n",
      " [7 5 5]\n",
      " [4 1 6]]\n",
      "\n",
      "First Row: [4 4 4]\n",
      "First Column: [4 7 4]\n",
      "\n",
      "Matrix with Even Numbers Replaced by 0:\n",
      "[[0 0 0]\n",
      " [7 5 5]\n",
      " [0 1 0]]\n"
     ]
    }
   ],
   "source": [
    "#PROBLEM 1\n",
    "# Create a 3x3 matrix of random integers between 1 and 10\n",
    "mat = np.random.randint(1, 11, (3, 3))\n",
    "print(mat)\n",
    "\n",
    "# Extract the first row and first column\n",
    "first_row = mat[0, 0:]\n",
    "first_column = mat[0:, 0]\n",
    "print(\"\\nFirst Row:\", first_row)\n",
    "print(\"First Column:\", first_column)\n",
    "\n",
    "# Replace all even numbers in the matrix with 0 !!!\n",
    "mat[mat % 2 == 0] = 0\n",
    "print(\"\\nMatrix with Even Numbers Replaced by 0:\")\n",
    "print(mat)\n"
   ]
  },
  {
   "cell_type": "code",
   "execution_count": 65,
   "id": "d6aa2b04-1948-4b4b-84d6-a5b13148ec96",
   "metadata": {},
   "outputs": [
    {
     "name": "stdout",
     "output_type": "stream",
     "text": [
      "matrix additiom: [[ 8 14]\n",
      " [13 15]]\n",
      "\n",
      " matrix element-wise multiplication: [[12 45]\n",
      " [40 54]]\n",
      "\n",
      "Dot Product:\n",
      "[[84 84]\n",
      " [82 79]]\n",
      "\n",
      "Transpose of Matrix A:\n",
      "[[6 5]\n",
      " [9 9]]\n",
      "Inverse of mat1(to three significant figures)]: \n",
      "  [[ 1.    -1.   ]\n",
      " [-0.556  0.667]]\n"
     ]
    }
   ],
   "source": [
    "#PROBLEM 2 \n",
    "mat1 = np.array([[6,9],[5,9]])\n",
    "mat2 = np.array([[2,5],[8,6]])\n",
    "#ADDITION\n",
    "add = mat1 + mat2\n",
    "print (\"matrix additiom:\", add )\n",
    "#ELEMENT-WISE MULTIPLICATION\n",
    "multi = mat1 * mat2 \n",
    "print (\"\\n matrix element-wise multiplication:\", multi )\n",
    "#DOT PRODUCT (MATRIX MULTIPLICATION)\n",
    "dot_product = mat1.dot(mat2)\n",
    "print(\"\\nDot Product:\")\n",
    "print(dot_product)\n",
    "#TRANSPOSE OF MAT1 \n",
    "transpose1 = np.transpose(mat1)\n",
    "print(\"\\nTranspose of Matrix A:\")\n",
    "print(transpose1)\n",
    "#inverse of mat1 !!!\n",
    "\"\"\"\n",
    "in order to have an inverse it needs to be:\n",
    "Square (same number of rows and columns )\n",
    "Non-singular (its determinant is not zero)\n",
    "\"\"\"\n",
    "if np.linalg.det(mat1) != 0 :\n",
    "    mat1_inv = np.linalg.inv(mat1)\n",
    "    mat1_inv_rounded= np.round(mat1_inv,3)\n",
    "    print (\"Inverse of mat1(to three significant figures)]: \\n \" , (mat1_inv_rounded))\n",
    "else :\n",
    "    print (\" Matrix is singular and can not be inverted \")\n",
    "\n"
   ]
  },
  {
   "cell_type": "code",
   "execution_count": 59,
   "id": "054f5bb6-f57a-47c7-9292-041daad3f58c",
   "metadata": {},
   "outputs": [
    {
     "name": "stdout",
     "output_type": "stream",
     "text": [
      "3x3 Matrix:\n",
      "[[2 4 1]\n",
      " [3 1 5]\n",
      " [7 2 6]]\n",
      "Determinant: 59.00\n",
      "4x4 Matrix:\n",
      "[[22 14 10 30]\n",
      " [13 11 15  9]\n",
      " [17 22 16 12]\n",
      " [23 12 34 50]]\n",
      "Rank of the 4x4 Matrix= 4\n"
     ]
    }
   ],
   "source": [
    "#PROBLEM 3\n",
    "#determinant = np.linalg.det()\n",
    "#Rank = np.linalg.matrix_rank()\n",
    "matrix_3x3 = np.array([[2, 4, 1], \n",
    "                       [3, 1, 5], \n",
    "                       [7, 2, 6]])\n",
    "determinant = np.linalg.det(matrix_3x3)\n",
    "\n",
    "matrix_4x4 =  np.array([\n",
    "                       [22, 14, 10,30], \n",
    "                       [13, 11, 15,9], \n",
    "                       [17, 22, 16,12],\n",
    "                       [23,12,34,50]\n",
    "                       ])\n",
    "rank_4x4 = np.linalg.matrix_rank(matrix_4x4)\n",
    "\n",
    "print(\"3x3 Matrix:\")\n",
    "print(matrix_3x3)\n",
    "print(f\"Determinant: {determinant:.2f}\")\n",
    "print (\"4x4 Matrix:\")\n",
    "print (matrix_4x4)\n",
    "print (\"Rank of the 4x4 Matrix=\" , rank_4x4 )"
   ]
  },
  {
   "cell_type": "code",
   "execution_count": 61,
   "id": "4cc79c82-dbe0-460a-b035-e1f8841242bd",
   "metadata": {},
   "outputs": [
    {
     "data": {
      "text/plain": [
       "[(0, 1.6666666666666667),\n",
       " (1, 1.0),\n",
       " (2, 0.3333333333333333),\n",
       " (-1, 2.3333333333333335)]"
      ]
     },
     "execution_count": 61,
     "metadata": {},
     "output_type": "execute_result"
    }
   ],
   "source": [
    "#PROBLEM 4 !!!\n",
    "# Define the values of x\n",
    "x_values = np.array([0, 1, 2, -1])\n",
    "\n",
    "# Calculate the corresponding y values using the equation y = (5 - 2x) / 3\n",
    "y_values = (5 - 2 * x_values) / 3\n",
    "\n",
    "# Display the results\n",
    "list(zip(x_values, y_values))"
   ]
  },
  {
   "cell_type": "code",
   "execution_count": 63,
   "id": "9b08d003-5014-4180-973c-fee1c3941b00",
   "metadata": {},
   "outputs": [
    {
     "name": "stdout",
     "output_type": "stream",
     "text": [
      "[[ 0  2  3  4  5]\n",
      " [ 6  0  8  9 10]\n",
      " [11 12  0 14 15]\n",
      " [16 17 18  0 20]\n",
      " [21 22 23 24  0]]\n"
     ]
    }
   ],
   "source": [
    "#PROBLEM 5 (numpy.fill_diagonal)   arange = (start,stop,step)\n",
    "matrix5 = np.arange(1,26,1).reshape(5,5)\n",
    "#extracting rows and columns 2 to 4\n",
    "extract = matrix5[1:4 , 1:4]\n",
    "#DIAGONAL ELMENTS EQUALS ZERO\n",
    "np.fill_diagonal(matrix5,0)\n",
    "print(matrix5)"
   ]
  }
 ],
 "metadata": {
  "kernelspec": {
   "display_name": "Python [conda env:base] *",
   "language": "python",
   "name": "conda-base-py"
  },
  "language_info": {
   "codemirror_mode": {
    "name": "ipython",
    "version": 3
   },
   "file_extension": ".py",
   "mimetype": "text/x-python",
   "name": "python",
   "nbconvert_exporter": "python",
   "pygments_lexer": "ipython3",
   "version": "3.12.7"
  }
 },
 "nbformat": 4,
 "nbformat_minor": 5
}
